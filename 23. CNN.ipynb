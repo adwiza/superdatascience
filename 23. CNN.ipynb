{
 "cells": [
  {
   "cell_type": "code",
   "execution_count": 1,
   "id": "3d8db31e-6d60-43d1-afab-139780cb3949",
   "metadata": {},
   "outputs": [],
   "source": [
    "import numpy as np\n",
    "import matplotlib.pyplot as plt\n",
    "import pandas as pd\n",
    "from sklearn.model_selection import train_test_split\n",
    "from sklearn.preprocessing import LabelEncoder, OneHotEncoder\n",
    "from sklearn.preprocessing import StandardScaler\n",
    "from sklearn.compose import ColumnTransformer\n",
    "from sklearn.metrics import confusion_matrix\n",
    "\n",
    "import tensorflow as tf\n",
    "import keras\n",
    "from keras.models import Sequential\n",
    "from keras.layers import Conv2D\n",
    "from keras.layers import MaxPool2D\n",
    "from keras.layers import Flatten\n",
    "from keras.layers import Dense\n",
    "\n",
    "\n",
    "\n",
    "\n",
    "%matplotlib inline"
   ]
  },
  {
   "cell_type": "code",
   "execution_count": 2,
   "id": "dee18e40-7677-4590-925b-fb6fb75d23ad",
   "metadata": {},
   "outputs": [
    {
     "name": "stdout",
     "output_type": "stream",
     "text": [
      "[PhysicalDevice(name='/physical_device:GPU:0', device_type='GPU')]\n",
      "2.16.2\n"
     ]
    }
   ],
   "source": [
    "gpu_available = tf.config.list_physical_devices('GPU')\n",
    "print(gpu_available)\n",
    "print(tf.__version__)\n",
    "# tf.debugging.set_log_device_placement(True)"
   ]
  },
  {
   "cell_type": "code",
   "execution_count": 3,
   "id": "b7945b6f-b461-4a11-857d-38a2566dd838",
   "metadata": {},
   "outputs": [],
   "source": [
    "# Initialising CNN\n",
    "classifier = Sequential()"
   ]
  },
  {
   "cell_type": "code",
   "execution_count": 4,
   "id": "535854a8-9084-4e5a-b2a2-030b2eed24b9",
   "metadata": {},
   "outputs": [
    {
     "name": "stderr",
     "output_type": "stream",
     "text": [
      "2024-08-11 10:32:32.475057: I metal_plugin/src/device/metal_device.cc:1154] Metal device set to: Apple M2 Max\n",
      "2024-08-11 10:32:32.475137: I metal_plugin/src/device/metal_device.cc:296] systemMemory: 32.00 GB\n",
      "2024-08-11 10:32:32.475153: I metal_plugin/src/device/metal_device.cc:313] maxCacheSize: 10.67 GB\n",
      "2024-08-11 10:32:32.475206: I tensorflow/core/common_runtime/pluggable_device/pluggable_device_factory.cc:305] Could not identify NUMA node of platform GPU ID 0, defaulting to 0. Your kernel may not have been built with NUMA support.\n",
      "2024-08-11 10:32:32.475237: I tensorflow/core/common_runtime/pluggable_device/pluggable_device_factory.cc:271] Created TensorFlow device (/job:localhost/replica:0/task:0/device:GPU:0 with 0 MB memory) -> physical PluggableDevice (device: 0, name: METAL, pci bus id: <undefined>)\n"
     ]
    }
   ],
   "source": [
    "# Step 1 - Convolution\n",
    "classifier.add(keras.Input(shape=(64, 64, 3)))\n",
    "classifier.add(Conv2D(32, (3, 3), activation='relu'))"
   ]
  },
  {
   "cell_type": "code",
   "execution_count": null,
   "id": "526c8453-1ff3-4590-bd92-66e5ca6e76b0",
   "metadata": {},
   "outputs": [],
   "source": []
  },
  {
   "cell_type": "code",
   "execution_count": null,
   "id": "6c3ca317-8f77-442d-8889-2ab71964bf9a",
   "metadata": {},
   "outputs": [],
   "source": []
  },
  {
   "cell_type": "code",
   "execution_count": null,
   "id": "080d1f72-c6cd-4e47-ac71-e6d8ea2484c4",
   "metadata": {},
   "outputs": [],
   "source": []
  },
  {
   "cell_type": "code",
   "execution_count": null,
   "id": "f8a57c6c-eef4-4d51-913f-9d739908fd3f",
   "metadata": {},
   "outputs": [],
   "source": [
    "loc = \"data/Part 8 - Deep Learning/Section 39 - Artificial Neural Networks (ANN)/Python/\"\n",
    "\n",
    "dataset = pd.read_csv(loc + 'Churn_Modelling.csv')\n",
    "print(dataset.shape)\n",
    "dataset.head()"
   ]
  },
  {
   "cell_type": "code",
   "execution_count": null,
   "id": "d9a7cf25-7387-43c9-abb8-1100bf6145a2",
   "metadata": {},
   "outputs": [],
   "source": [
    "X = dataset.iloc[:, 3:12].values\n",
    "y = dataset.iloc[:, 13].values"
   ]
  },
  {
   "cell_type": "code",
   "execution_count": null,
   "id": "1b429867-5e5b-4744-947c-31c69334a489",
   "metadata": {},
   "outputs": [],
   "source": [
    "X"
   ]
  },
  {
   "cell_type": "code",
   "execution_count": null,
   "id": "f63f1fdd-bf1e-46d8-a379-41c7b0d03c5f",
   "metadata": {},
   "outputs": [],
   "source": [
    "labelencoder_X_1 = LabelEncoder()\n",
    "X[:, 1] = labelencoder_X_1.fit_transform(X[:, 1])\n",
    "labelencoder_X_2 = LabelEncoder()\n",
    "X[:, 2] = labelencoder_X_2.fit_transform(X[:, 2])\n",
    "ct = ColumnTransformer([(\"Geography, Gender\", OneHotEncoder(categories='auto'),[1, 2])], remainder=\"passthrough\") # The last arg ([0]) is the list of columns you want to transform in this step\n",
    "X = ct.fit_transform(X)  \n",
    "X = X[:, 1:]\n",
    "print(X.shape)"
   ]
  },
  {
   "cell_type": "code",
   "execution_count": null,
   "id": "ce9db0f3-86e6-48e5-a460-94dbbfe3ee41",
   "metadata": {},
   "outputs": [],
   "source": [
    "X_train, X_test, y_train, y_test = train_test_split(X, y, test_size=.2, random_state=0)"
   ]
  },
  {
   "cell_type": "code",
   "execution_count": null,
   "id": "42287d22-38f3-4c3f-9403-28a8e556b22c",
   "metadata": {},
   "outputs": [],
   "source": [
    "# Feature scaling\n",
    "sc_X = StandardScaler(with_mean=False)\n",
    "X_train = sc_X.fit_transform(X_train)\n",
    "X_test = sc_X.transform(X_test)"
   ]
  },
  {
   "cell_type": "code",
   "execution_count": null,
   "id": "bbaebc9d-32e3-4281-9df8-836ff2921d37",
   "metadata": {},
   "outputs": [],
   "source": [
    "print(X_train.shape)\n",
    "print(y_train.shape)"
   ]
  },
  {
   "cell_type": "code",
   "execution_count": null,
   "id": "d586118f-9cb6-4ad0-af4e-8a99c8a0c771",
   "metadata": {},
   "outputs": [],
   "source": [
    "print(X_test.shape)\n",
    "print(y_test.shape)"
   ]
  },
  {
   "cell_type": "code",
   "execution_count": null,
   "id": "5343c14f-0562-418b-950c-98d2a0f0f917",
   "metadata": {},
   "outputs": [],
   "source": [
    "# Initialising the ANN\n",
    "classifier = Sequential()"
   ]
  },
  {
   "cell_type": "code",
   "execution_count": null,
   "id": "439c0e9b-7c50-48b0-95d5-d26891e1dc3b",
   "metadata": {},
   "outputs": [],
   "source": [
    "# Adding the inpput layer and the first hidden layer\n",
    "classifier.add(keras.Input(shape=(11,)))\n",
    "classifier.add(Dense(units=6, kernel_initializer=\"glorot_uniform\", activation='relu'))\n",
    "classifier.add(Dense(units=6, kernel_initializer=\"glorot_uniform\", activation='relu'))\n",
    "classifier.add(Dense(units=1, kernel_initializer=\"glorot_uniform\", activation='sigmoid'))"
   ]
  },
  {
   "cell_type": "code",
   "execution_count": null,
   "id": "1dd951c1-19d8-470f-8d33-14b95041c339",
   "metadata": {},
   "outputs": [],
   "source": [
    "# Compiling th ANN\n",
    "classifier.compile(optimizer='adam', loss='binary_crossentropy', metrics=['accuracy'])\n",
    "classifier.summary()"
   ]
  },
  {
   "cell_type": "code",
   "execution_count": null,
   "id": "5a173229-1daa-4d64-a6ec-d8a7cb332539",
   "metadata": {},
   "outputs": [],
   "source": [
    "# Fitting the ANN to the Trainning set\n",
    "# classifier.fit(X_train, y_train, batch_size=10, epochs=100)"
   ]
  },
  {
   "cell_type": "code",
   "execution_count": null,
   "id": "fbef6716-f8d8-4a62-848f-0d995d49448b",
   "metadata": {},
   "outputs": [],
   "source": [
    "model_file = 'models/ann_classifier.keras'\n",
    "try:\n",
    "  # Specify an invalid GPU device\n",
    "  with tf.device('/GPU:0'):\n",
    "    early_stop = tf.keras.callbacks.EarlyStopping(monitor='loss', \n",
    "                    patience = 3, restore_best_weights = False)\n",
    "    checkpoint = tf.keras.callbacks.ModelCheckpoint(model_file, \n",
    "                        monitor=\"loss\", mode=\"min\", \n",
    "                        save_best_only=True, verbose=1)\n",
    "    history = classifier.fit(X_train, y_train, batch_size=10, epochs=100, callbacks=[early_stop, checkpoint])\n",
    "except RuntimeError as e:\n",
    "    print(e)\n",
    "# loading model weights\n",
    "# classifier.load_weights(model_file)"
   ]
  },
  {
   "cell_type": "code",
   "execution_count": null,
   "id": "59005551-c5ab-4649-b1ef-003b9ae3f1db",
   "metadata": {},
   "outputs": [],
   "source": [
    "# try:\n",
    "#   # Specify an invalid GPU device\n",
    "#   with tf.device('/GPU:0'):\n",
    "#     history = classifier.fit(X_train, y_train, batch_size=10, epochs=100)\n",
    "# except RuntimeError as e:\n",
    "#   print(e)"
   ]
  },
  {
   "cell_type": "code",
   "execution_count": null,
   "id": "1ac0ae7a-d168-43ef-96b5-b3da0decc692",
   "metadata": {},
   "outputs": [],
   "source": [
    "# Predicting the Test set results\n",
    "y_pred = classifier.predict(X_test)\n",
    "y_pred = (y_pred > .5)\n",
    "y_pred"
   ]
  },
  {
   "cell_type": "code",
   "execution_count": null,
   "id": "9198e950-07f6-4d18-8a70-52be2e7d61a8",
   "metadata": {},
   "outputs": [],
   "source": [
    "cm = confusion_matrix(y_test, y_pred)\n",
    "cm"
   ]
  },
  {
   "cell_type": "code",
   "execution_count": null,
   "id": "9b796246-50ef-4b59-8e94-8a88b7a26b72",
   "metadata": {},
   "outputs": [],
   "source": [
    "# array([[1533,   62],\n",
    "#        [ 255,  150]])"
   ]
  },
  {
   "cell_type": "code",
   "execution_count": null,
   "id": "b2eda9f2-6f18-494b-b549-8738e7d1e95f",
   "metadata": {},
   "outputs": [],
   "source": [
    "# array([[1533,   62],\n",
    "#        [ 210,  195]])"
   ]
  },
  {
   "cell_type": "code",
   "execution_count": null,
   "id": "1b3e2583-33e6-426f-ba31-b58ed06db553",
   "metadata": {},
   "outputs": [],
   "source": [
    " # array([[1539,   56],\n",
    " #       [ 266,  139]])"
   ]
  },
  {
   "cell_type": "code",
   "execution_count": null,
   "id": "2543d360-bcbc-46e1-843a-2a0b8e67ba95",
   "metadata": {},
   "outputs": [],
   "source": [
    "# array([[1542,   53],\n",
    "#        [ 274,  131]])"
   ]
  },
  {
   "cell_type": "code",
   "execution_count": null,
   "id": "409dd78d-0b8c-47e3-9904-3c14996d203e",
   "metadata": {},
   "outputs": [],
   "source": [
    "# array([[1550,   45],\n",
    "#        [ 230,  175]])"
   ]
  },
  {
   "cell_type": "code",
   "execution_count": null,
   "id": "26dcc2bb-4ef3-4285-8927-66399a2c7541",
   "metadata": {},
   "outputs": [],
   "source": [
    "# array([[1505,   90],\n",
    "#        [ 184,  221]])"
   ]
  },
  {
   "cell_type": "code",
   "execution_count": null,
   "id": "0711f2ae-451a-4570-acd3-d21c533fad1d",
   "metadata": {},
   "outputs": [],
   "source": [
    "# array([[1533,   62],\n",
    "#        [ 218,  187]])"
   ]
  }
 ],
 "metadata": {
  "kernelspec": {
   "display_name": "Python 3 (ipykernel)",
   "language": "python",
   "name": "python3"
  },
  "language_info": {
   "codemirror_mode": {
    "name": "ipython",
    "version": 3
   },
   "file_extension": ".py",
   "mimetype": "text/x-python",
   "name": "python",
   "nbconvert_exporter": "python",
   "pygments_lexer": "ipython3",
   "version": "3.11.9"
  }
 },
 "nbformat": 4,
 "nbformat_minor": 5
}
